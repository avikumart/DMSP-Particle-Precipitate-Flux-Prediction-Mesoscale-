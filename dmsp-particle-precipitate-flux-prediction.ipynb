{
 "cells": [
  {
   "cell_type": "code",
   "execution_count": 1,
   "id": "bf2007cb",
   "metadata": {
    "_cell_guid": "b1076dfc-b9ad-4769-8c92-a6c4dae69d19",
    "_uuid": "8f2839f25d086af736a60e9eeb907d3b93b6e0e5",
    "execution": {
     "iopub.execute_input": "2023-01-03T15:15:33.112119Z",
     "iopub.status.busy": "2023-01-03T15:15:33.111081Z",
     "iopub.status.idle": "2023-01-03T15:15:41.242644Z",
     "shell.execute_reply": "2023-01-03T15:15:41.241090Z"
    },
    "papermill": {
     "duration": 8.141889,
     "end_time": "2023-01-03T15:15:41.245021",
     "exception": false,
     "start_time": "2023-01-03T15:15:33.103132",
     "status": "completed"
    },
    "tags": []
   },
   "outputs": [
    {
     "data": {
      "text/html": [
       "<style type='text/css'>\n",
       ".datatable table.frame { margin-bottom: 0; }\n",
       ".datatable table.frame thead { border-bottom: none; }\n",
       ".datatable table.frame tr.coltypes td {  color: #FFFFFF;  line-height: 6px;  padding: 0 0.5em;}\n",
       ".datatable .bool    { background: #DDDD99; }\n",
       ".datatable .object  { background: #565656; }\n",
       ".datatable .int     { background: #5D9E5D; }\n",
       ".datatable .float   { background: #4040CC; }\n",
       ".datatable .str     { background: #CC4040; }\n",
       ".datatable .time    { background: #40CC40; }\n",
       ".datatable .row_index {  background: var(--jp-border-color3);  border-right: 1px solid var(--jp-border-color0);  color: var(--jp-ui-font-color3);  font-size: 9px;}\n",
       ".datatable .frame tbody td { text-align: left; }\n",
       ".datatable .frame tr.coltypes .row_index {  background: var(--jp-border-color0);}\n",
       ".datatable th:nth-child(2) { padding-left: 12px; }\n",
       ".datatable .hellipsis {  color: var(--jp-cell-editor-border-color);}\n",
       ".datatable .vellipsis {  background: var(--jp-layout-color0);  color: var(--jp-cell-editor-border-color);}\n",
       ".datatable .na {  color: var(--jp-cell-editor-border-color);  font-size: 80%;}\n",
       ".datatable .sp {  opacity: 0.25;}\n",
       ".datatable .footer { font-size: 9px; }\n",
       ".datatable .frame_dimensions {  background: var(--jp-border-color3);  border-top: 1px solid var(--jp-border-color0);  color: var(--jp-ui-font-color3);  display: inline-block;  opacity: 0.6;  padding: 1px 10px 1px 5px;}\n",
       "</style>\n"
      ],
      "text/plain": [
       "<IPython.core.display.HTML object>"
      ]
     },
     "metadata": {},
     "output_type": "display_data"
    },
    {
     "name": "stdout",
     "output_type": "stream",
     "text": [
      "/kaggle/input/dmsp-particle-precipitate-flux/AI_Ready_DMSP_Data.csv\n",
      "/kaggle/input/particle-flux-prediction-dataset-small/AI_Ready_DMSP_Data.csv.crdownload\n"
     ]
    }
   ],
   "source": [
    "import numpy as np \n",
    "import pandas as pd\n",
    "import matplotlib.pyplot as plt\n",
    "import seaborn as sns\n",
    "import vaex\n",
    "from vaex.dataframe import DataFrame\n",
    "from sklearn.preprocessing import StandardScaler\n",
    "from sklearn.feature_selection import RFE\n",
    "from sklearn.tree import DecisionTreeRegressor\n",
    "from lightgbm import LGBMRegressor\n",
    "from sklearn.model_selection import train_test_split\n",
    "from sklearn.metrics import mean_squared_error, r2_score\n",
    "import tensorflow as tf\n",
    "from tensorflow import keras\n",
    "\n",
    "import os\n",
    "for dirname, _, filenames in os.walk('/kaggle/input'):\n",
    "    for filename in filenames:\n",
    "        print(os.path.join(dirname, filename))"
   ]
  },
  {
   "cell_type": "code",
   "execution_count": 2,
   "id": "89ff7b81",
   "metadata": {
    "execution": {
     "iopub.execute_input": "2023-01-03T15:15:41.258437Z",
     "iopub.status.busy": "2023-01-03T15:15:41.257744Z",
     "iopub.status.idle": "2023-01-03T15:15:41.598860Z",
     "shell.execute_reply": "2023-01-03T15:15:41.597657Z"
    },
    "papermill": {
     "duration": 0.349926,
     "end_time": "2023-01-03T15:15:41.600943",
     "exception": false,
     "start_time": "2023-01-03T15:15:41.251017",
     "status": "completed"
    },
    "tags": []
   },
   "outputs": [
    {
     "name": "stdout",
     "output_type": "stream",
     "text": [
      "CPU times: user 145 ms, sys: 25.7 ms, total: 171 ms\n",
      "Wall time: 335 ms\n"
     ]
    }
   ],
   "source": [
    "%%time\n",
    "df = pd.read_csv(\"/kaggle/input/particle-flux-prediction-dataset-small/AI_Ready_DMSP_Data.csv.crdownload\")"
   ]
  },
  {
   "cell_type": "markdown",
   "id": "410bf78d",
   "metadata": {
    "papermill": {
     "duration": 0.005531,
     "end_time": "2023-01-03T15:15:41.612362",
     "exception": false,
     "start_time": "2023-01-03T15:15:41.606831",
     "status": "completed"
    },
    "tags": []
   },
   "source": [
    "## Data Understanding and pre-processing"
   ]
  },
  {
   "cell_type": "code",
   "execution_count": 3,
   "id": "ac51d8fe",
   "metadata": {
    "execution": {
     "iopub.execute_input": "2023-01-03T15:15:41.625571Z",
     "iopub.status.busy": "2023-01-03T15:15:41.624621Z",
     "iopub.status.idle": "2023-01-03T15:15:41.631256Z",
     "shell.execute_reply": "2023-01-03T15:15:41.630246Z"
    },
    "papermill": {
     "duration": 0.015216,
     "end_time": "2023-01-03T15:15:41.633218",
     "exception": false,
     "start_time": "2023-01-03T15:15:41.618002",
     "status": "completed"
    },
    "tags": []
   },
   "outputs": [
    {
     "data": {
      "text/plain": [
       "(6828, 154)"
      ]
     },
     "execution_count": 3,
     "metadata": {},
     "output_type": "execute_result"
    }
   ],
   "source": [
    "df.shape"
   ]
  },
  {
   "cell_type": "code",
   "execution_count": 4,
   "id": "a8ccbe13",
   "metadata": {
    "execution": {
     "iopub.execute_input": "2023-01-03T15:15:41.646222Z",
     "iopub.status.busy": "2023-01-03T15:15:41.645342Z",
     "iopub.status.idle": "2023-01-03T15:15:41.674785Z",
     "shell.execute_reply": "2023-01-03T15:15:41.673189Z"
    },
    "papermill": {
     "duration": 0.038462,
     "end_time": "2023-01-03T15:15:41.677349",
     "exception": false,
     "start_time": "2023-01-03T15:15:41.638887",
     "status": "completed"
    },
    "tags": []
   },
   "outputs": [
    {
     "name": "stdout",
     "output_type": "stream",
     "text": [
      "<class 'pandas.core.frame.DataFrame'>\n",
      "RangeIndex: 6828 entries, 0 to 6827\n",
      "Columns: 154 entries, Datetimes to newell_5min\n",
      "dtypes: float64(153), object(1)\n",
      "memory usage: 8.0+ MB\n"
     ]
    }
   ],
   "source": [
    "df.info()"
   ]
  },
  {
   "cell_type": "code",
   "execution_count": 5,
   "id": "596064b9",
   "metadata": {
    "execution": {
     "iopub.execute_input": "2023-01-03T15:15:41.690737Z",
     "iopub.status.busy": "2023-01-03T15:15:41.689902Z",
     "iopub.status.idle": "2023-01-03T15:15:42.011526Z",
     "shell.execute_reply": "2023-01-03T15:15:42.010347Z"
    },
    "papermill": {
     "duration": 0.3311,
     "end_time": "2023-01-03T15:15:42.014464",
     "exception": false,
     "start_time": "2023-01-03T15:15:41.683364",
     "status": "completed"
    },
    "tags": []
   },
   "outputs": [
    {
     "data": {
      "text/html": [
       "<div>\n",
       "<style scoped>\n",
       "    .dataframe tbody tr th:only-of-type {\n",
       "        vertical-align: middle;\n",
       "    }\n",
       "\n",
       "    .dataframe tbody tr th {\n",
       "        vertical-align: top;\n",
       "    }\n",
       "\n",
       "    .dataframe thead th {\n",
       "        text-align: right;\n",
       "    }\n",
       "</style>\n",
       "<table border=\"1\" class=\"dataframe\">\n",
       "  <thead>\n",
       "    <tr style=\"text-align: right;\">\n",
       "      <th></th>\n",
       "      <th>count</th>\n",
       "      <th>mean</th>\n",
       "      <th>std</th>\n",
       "      <th>min</th>\n",
       "      <th>25%</th>\n",
       "      <th>50%</th>\n",
       "      <th>75%</th>\n",
       "      <th>max</th>\n",
       "    </tr>\n",
       "  </thead>\n",
       "  <tbody>\n",
       "    <tr>\n",
       "      <th>SC_AACGM_LAT</th>\n",
       "      <td>6828.0</td>\n",
       "      <td>6.623694e+01</td>\n",
       "      <td>1.058720e+01</td>\n",
       "      <td>4.501050e+01</td>\n",
       "      <td>5.795416e+01</td>\n",
       "      <td>6.754129e+01</td>\n",
       "      <td>7.428236e+01</td>\n",
       "      <td>8.946862e+01</td>\n",
       "    </tr>\n",
       "    <tr>\n",
       "      <th>SC_AACGM_LTIME</th>\n",
       "      <td>6828.0</td>\n",
       "      <td>1.261739e+01</td>\n",
       "      <td>6.383255e+00</td>\n",
       "      <td>3.137616e-03</td>\n",
       "      <td>7.954506e+00</td>\n",
       "      <td>1.117522e+01</td>\n",
       "      <td>1.885893e+01</td>\n",
       "      <td>2.399197e+01</td>\n",
       "    </tr>\n",
       "    <tr>\n",
       "      <th>ELE_TOTAL_ENERGY_FLUX</th>\n",
       "      <td>6828.0</td>\n",
       "      <td>6.609118e+10</td>\n",
       "      <td>8.469603e+11</td>\n",
       "      <td>6.229923e+06</td>\n",
       "      <td>2.179984e+08</td>\n",
       "      <td>7.486856e+08</td>\n",
       "      <td>1.844837e+10</td>\n",
       "      <td>6.019487e+13</td>\n",
       "    </tr>\n",
       "    <tr>\n",
       "      <th>ELE_TOTAL_ENERGY_FLUX_STD</th>\n",
       "      <td>6828.0</td>\n",
       "      <td>4.228732e-01</td>\n",
       "      <td>4.703586e-01</td>\n",
       "      <td>6.363267e-02</td>\n",
       "      <td>1.525149e-01</td>\n",
       "      <td>2.826462e-01</td>\n",
       "      <td>5.212378e-01</td>\n",
       "      <td>6.791971e+00</td>\n",
       "    </tr>\n",
       "    <tr>\n",
       "      <th>ELE_AVG_ENERGY</th>\n",
       "      <td>6828.0</td>\n",
       "      <td>9.423338e+02</td>\n",
       "      <td>2.741773e+03</td>\n",
       "      <td>3.000000e+01</td>\n",
       "      <td>4.943325e+01</td>\n",
       "      <td>1.182965e+02</td>\n",
       "      <td>5.308267e+02</td>\n",
       "      <td>3.000000e+04</td>\n",
       "    </tr>\n",
       "    <tr>\n",
       "      <th>...</th>\n",
       "      <td>...</td>\n",
       "      <td>...</td>\n",
       "      <td>...</td>\n",
       "      <td>...</td>\n",
       "      <td>...</td>\n",
       "      <td>...</td>\n",
       "      <td>...</td>\n",
       "      <td>...</td>\n",
       "    </tr>\n",
       "    <tr>\n",
       "      <th>vsw_5min</th>\n",
       "      <td>6827.0</td>\n",
       "      <td>3.902693e+02</td>\n",
       "      <td>5.071063e+01</td>\n",
       "      <td>2.804000e+02</td>\n",
       "      <td>3.563000e+02</td>\n",
       "      <td>3.862000e+02</td>\n",
       "      <td>4.121000e+02</td>\n",
       "      <td>6.744000e+02</td>\n",
       "    </tr>\n",
       "    <tr>\n",
       "      <th>vx_5min</th>\n",
       "      <td>6827.0</td>\n",
       "      <td>-3.890447e+02</td>\n",
       "      <td>5.093798e+01</td>\n",
       "      <td>-6.711000e+02</td>\n",
       "      <td>-4.115000e+02</td>\n",
       "      <td>-3.842000e+02</td>\n",
       "      <td>-3.550000e+02</td>\n",
       "      <td>-2.790000e+02</td>\n",
       "    </tr>\n",
       "    <tr>\n",
       "      <th>psw_5min</th>\n",
       "      <td>6827.0</td>\n",
       "      <td>2.134615e+00</td>\n",
       "      <td>1.249924e+00</td>\n",
       "      <td>2.800000e-01</td>\n",
       "      <td>1.260000e+00</td>\n",
       "      <td>1.680000e+00</td>\n",
       "      <td>2.750000e+00</td>\n",
       "      <td>9.740000e+00</td>\n",
       "    </tr>\n",
       "    <tr>\n",
       "      <th>borovsky_5min</th>\n",
       "      <td>6827.0</td>\n",
       "      <td>1.826616e+04</td>\n",
       "      <td>1.764378e+04</td>\n",
       "      <td>4.770848e-02</td>\n",
       "      <td>4.820545e+03</td>\n",
       "      <td>1.406102e+04</td>\n",
       "      <td>2.608820e+04</td>\n",
       "      <td>9.939165e+04</td>\n",
       "    </tr>\n",
       "    <tr>\n",
       "      <th>newell_5min</th>\n",
       "      <td>6827.0</td>\n",
       "      <td>2.652937e+03</td>\n",
       "      <td>2.409310e+03</td>\n",
       "      <td>1.520847e-04</td>\n",
       "      <td>4.438903e+02</td>\n",
       "      <td>1.973019e+03</td>\n",
       "      <td>4.462491e+03</td>\n",
       "      <td>8.986726e+03</td>\n",
       "    </tr>\n",
       "  </tbody>\n",
       "</table>\n",
       "<p>153 rows × 8 columns</p>\n",
       "</div>"
      ],
      "text/plain": [
       "                            count          mean           std           min  \\\n",
       "SC_AACGM_LAT               6828.0  6.623694e+01  1.058720e+01  4.501050e+01   \n",
       "SC_AACGM_LTIME             6828.0  1.261739e+01  6.383255e+00  3.137616e-03   \n",
       "ELE_TOTAL_ENERGY_FLUX      6828.0  6.609118e+10  8.469603e+11  6.229923e+06   \n",
       "ELE_TOTAL_ENERGY_FLUX_STD  6828.0  4.228732e-01  4.703586e-01  6.363267e-02   \n",
       "ELE_AVG_ENERGY             6828.0  9.423338e+02  2.741773e+03  3.000000e+01   \n",
       "...                           ...           ...           ...           ...   \n",
       "vsw_5min                   6827.0  3.902693e+02  5.071063e+01  2.804000e+02   \n",
       "vx_5min                    6827.0 -3.890447e+02  5.093798e+01 -6.711000e+02   \n",
       "psw_5min                   6827.0  2.134615e+00  1.249924e+00  2.800000e-01   \n",
       "borovsky_5min              6827.0  1.826616e+04  1.764378e+04  4.770848e-02   \n",
       "newell_5min                6827.0  2.652937e+03  2.409310e+03  1.520847e-04   \n",
       "\n",
       "                                    25%           50%           75%  \\\n",
       "SC_AACGM_LAT               5.795416e+01  6.754129e+01  7.428236e+01   \n",
       "SC_AACGM_LTIME             7.954506e+00  1.117522e+01  1.885893e+01   \n",
       "ELE_TOTAL_ENERGY_FLUX      2.179984e+08  7.486856e+08  1.844837e+10   \n",
       "ELE_TOTAL_ENERGY_FLUX_STD  1.525149e-01  2.826462e-01  5.212378e-01   \n",
       "ELE_AVG_ENERGY             4.943325e+01  1.182965e+02  5.308267e+02   \n",
       "...                                 ...           ...           ...   \n",
       "vsw_5min                   3.563000e+02  3.862000e+02  4.121000e+02   \n",
       "vx_5min                   -4.115000e+02 -3.842000e+02 -3.550000e+02   \n",
       "psw_5min                   1.260000e+00  1.680000e+00  2.750000e+00   \n",
       "borovsky_5min              4.820545e+03  1.406102e+04  2.608820e+04   \n",
       "newell_5min                4.438903e+02  1.973019e+03  4.462491e+03   \n",
       "\n",
       "                                    max  \n",
       "SC_AACGM_LAT               8.946862e+01  \n",
       "SC_AACGM_LTIME             2.399197e+01  \n",
       "ELE_TOTAL_ENERGY_FLUX      6.019487e+13  \n",
       "ELE_TOTAL_ENERGY_FLUX_STD  6.791971e+00  \n",
       "ELE_AVG_ENERGY             3.000000e+04  \n",
       "...                                 ...  \n",
       "vsw_5min                   6.744000e+02  \n",
       "vx_5min                   -2.790000e+02  \n",
       "psw_5min                   9.740000e+00  \n",
       "borovsky_5min              9.939165e+04  \n",
       "newell_5min                8.986726e+03  \n",
       "\n",
       "[153 rows x 8 columns]"
      ]
     },
     "execution_count": 5,
     "metadata": {},
     "output_type": "execute_result"
    }
   ],
   "source": [
    "df.describe().T"
   ]
  },
  {
   "cell_type": "code",
   "execution_count": 6,
   "id": "4ca50995",
   "metadata": {
    "execution": {
     "iopub.execute_input": "2023-01-03T15:15:42.028090Z",
     "iopub.status.busy": "2023-01-03T15:15:42.027803Z",
     "iopub.status.idle": "2023-01-03T15:15:42.414253Z",
     "shell.execute_reply": "2023-01-03T15:15:42.413334Z"
    },
    "papermill": {
     "duration": 0.395447,
     "end_time": "2023-01-03T15:15:42.416317",
     "exception": false,
     "start_time": "2023-01-03T15:15:42.020870",
     "status": "completed"
    },
    "tags": []
   },
   "outputs": [
    {
     "data": {
      "text/html": [
       "<div>\n",
       "<style scoped>\n",
       "    .dataframe tbody tr th:only-of-type {\n",
       "        vertical-align: middle;\n",
       "    }\n",
       "\n",
       "    .dataframe tbody tr th {\n",
       "        vertical-align: top;\n",
       "    }\n",
       "\n",
       "    .dataframe thead th {\n",
       "        text-align: right;\n",
       "    }\n",
       "</style>\n",
       "<table border=\"1\" class=\"dataframe\">\n",
       "  <thead>\n",
       "    <tr style=\"text-align: right;\">\n",
       "      <th></th>\n",
       "      <th>SC_AACGM_LAT</th>\n",
       "      <th>SC_AACGM_LTIME</th>\n",
       "      <th>ELE_TOTAL_ENERGY_FLUX</th>\n",
       "      <th>ELE_TOTAL_ENERGY_FLUX_STD</th>\n",
       "      <th>ELE_AVG_ENERGY</th>\n",
       "      <th>ELE_AVG_ENERGY_STD</th>\n",
       "      <th>ID_SC</th>\n",
       "      <th>sin_ut</th>\n",
       "      <th>cos_ut</th>\n",
       "      <th>sin_doy</th>\n",
       "      <th>...</th>\n",
       "      <th>AE_5min</th>\n",
       "      <th>AL_5min</th>\n",
       "      <th>AU_5min</th>\n",
       "      <th>SymH_5min</th>\n",
       "      <th>PC_5min</th>\n",
       "      <th>vsw_5min</th>\n",
       "      <th>vx_5min</th>\n",
       "      <th>psw_5min</th>\n",
       "      <th>borovsky_5min</th>\n",
       "      <th>newell_5min</th>\n",
       "    </tr>\n",
       "  </thead>\n",
       "  <tbody>\n",
       "    <tr>\n",
       "      <th>SC_AACGM_LAT</th>\n",
       "      <td>1.000000</td>\n",
       "      <td>-0.077137</td>\n",
       "      <td>0.011166</td>\n",
       "      <td>-0.217543</td>\n",
       "      <td>-0.036369</td>\n",
       "      <td>-0.203636</td>\n",
       "      <td>0.029454</td>\n",
       "      <td>-0.053126</td>\n",
       "      <td>-0.031444</td>\n",
       "      <td>0.123176</td>\n",
       "      <td>...</td>\n",
       "      <td>-0.005325</td>\n",
       "      <td>-0.007701</td>\n",
       "      <td>-0.026401</td>\n",
       "      <td>0.022509</td>\n",
       "      <td>0.021169</td>\n",
       "      <td>-0.002800</td>\n",
       "      <td>0.000848</td>\n",
       "      <td>-0.008444</td>\n",
       "      <td>0.026161</td>\n",
       "      <td>0.042876</td>\n",
       "    </tr>\n",
       "    <tr>\n",
       "      <th>SC_AACGM_LTIME</th>\n",
       "      <td>-0.077137</td>\n",
       "      <td>1.000000</td>\n",
       "      <td>-0.025051</td>\n",
       "      <td>-0.008799</td>\n",
       "      <td>-0.127105</td>\n",
       "      <td>-0.006429</td>\n",
       "      <td>0.048726</td>\n",
       "      <td>-0.110258</td>\n",
       "      <td>0.026450</td>\n",
       "      <td>-0.056365</td>\n",
       "      <td>...</td>\n",
       "      <td>0.037789</td>\n",
       "      <td>-0.032912</td>\n",
       "      <td>0.034571</td>\n",
       "      <td>0.034059</td>\n",
       "      <td>0.022497</td>\n",
       "      <td>-0.029887</td>\n",
       "      <td>0.028628</td>\n",
       "      <td>0.030849</td>\n",
       "      <td>0.011966</td>\n",
       "      <td>0.010927</td>\n",
       "    </tr>\n",
       "    <tr>\n",
       "      <th>ELE_TOTAL_ENERGY_FLUX</th>\n",
       "      <td>0.011166</td>\n",
       "      <td>-0.025051</td>\n",
       "      <td>1.000000</td>\n",
       "      <td>-0.045956</td>\n",
       "      <td>0.125707</td>\n",
       "      <td>-0.044610</td>\n",
       "      <td>-0.006837</td>\n",
       "      <td>0.031414</td>\n",
       "      <td>-0.003450</td>\n",
       "      <td>0.025544</td>\n",
       "      <td>...</td>\n",
       "      <td>0.043323</td>\n",
       "      <td>-0.041015</td>\n",
       "      <td>0.034244</td>\n",
       "      <td>-0.035007</td>\n",
       "      <td>0.048553</td>\n",
       "      <td>0.006667</td>\n",
       "      <td>-0.006714</td>\n",
       "      <td>0.005607</td>\n",
       "      <td>0.025117</td>\n",
       "      <td>0.040879</td>\n",
       "    </tr>\n",
       "    <tr>\n",
       "      <th>ELE_TOTAL_ENERGY_FLUX_STD</th>\n",
       "      <td>-0.217543</td>\n",
       "      <td>-0.008799</td>\n",
       "      <td>-0.045956</td>\n",
       "      <td>1.000000</td>\n",
       "      <td>0.249302</td>\n",
       "      <td>0.980391</td>\n",
       "      <td>-0.114982</td>\n",
       "      <td>0.003274</td>\n",
       "      <td>0.020736</td>\n",
       "      <td>0.089033</td>\n",
       "      <td>...</td>\n",
       "      <td>0.006769</td>\n",
       "      <td>0.009655</td>\n",
       "      <td>0.033339</td>\n",
       "      <td>-0.041813</td>\n",
       "      <td>0.005550</td>\n",
       "      <td>0.018336</td>\n",
       "      <td>-0.019046</td>\n",
       "      <td>-0.064218</td>\n",
       "      <td>-0.013703</td>\n",
       "      <td>0.012754</td>\n",
       "    </tr>\n",
       "    <tr>\n",
       "      <th>ELE_AVG_ENERGY</th>\n",
       "      <td>-0.036369</td>\n",
       "      <td>-0.127105</td>\n",
       "      <td>0.125707</td>\n",
       "      <td>0.249302</td>\n",
       "      <td>1.000000</td>\n",
       "      <td>0.233580</td>\n",
       "      <td>-0.108567</td>\n",
       "      <td>0.007714</td>\n",
       "      <td>0.023762</td>\n",
       "      <td>0.074690</td>\n",
       "      <td>...</td>\n",
       "      <td>0.036063</td>\n",
       "      <td>-0.025877</td>\n",
       "      <td>0.042878</td>\n",
       "      <td>-0.066974</td>\n",
       "      <td>0.053353</td>\n",
       "      <td>0.040892</td>\n",
       "      <td>-0.041470</td>\n",
       "      <td>-0.034040</td>\n",
       "      <td>-0.019942</td>\n",
       "      <td>0.009034</td>\n",
       "    </tr>\n",
       "    <tr>\n",
       "      <th>...</th>\n",
       "      <td>...</td>\n",
       "      <td>...</td>\n",
       "      <td>...</td>\n",
       "      <td>...</td>\n",
       "      <td>...</td>\n",
       "      <td>...</td>\n",
       "      <td>...</td>\n",
       "      <td>...</td>\n",
       "      <td>...</td>\n",
       "      <td>...</td>\n",
       "      <td>...</td>\n",
       "      <td>...</td>\n",
       "      <td>...</td>\n",
       "      <td>...</td>\n",
       "      <td>...</td>\n",
       "      <td>...</td>\n",
       "      <td>...</td>\n",
       "      <td>...</td>\n",
       "      <td>...</td>\n",
       "      <td>...</td>\n",
       "      <td>...</td>\n",
       "    </tr>\n",
       "    <tr>\n",
       "      <th>vsw_5min</th>\n",
       "      <td>-0.002800</td>\n",
       "      <td>-0.029887</td>\n",
       "      <td>0.006667</td>\n",
       "      <td>0.018336</td>\n",
       "      <td>0.040892</td>\n",
       "      <td>-0.001718</td>\n",
       "      <td>-0.174585</td>\n",
       "      <td>0.021817</td>\n",
       "      <td>-0.019749</td>\n",
       "      <td>-0.112679</td>\n",
       "      <td>...</td>\n",
       "      <td>-0.033241</td>\n",
       "      <td>-0.031657</td>\n",
       "      <td>-0.137261</td>\n",
       "      <td>-0.011167</td>\n",
       "      <td>-0.105444</td>\n",
       "      <td>1.000000</td>\n",
       "      <td>-0.999629</td>\n",
       "      <td>0.088055</td>\n",
       "      <td>0.077025</td>\n",
       "      <td>-0.060439</td>\n",
       "    </tr>\n",
       "    <tr>\n",
       "      <th>vx_5min</th>\n",
       "      <td>0.000848</td>\n",
       "      <td>0.028628</td>\n",
       "      <td>-0.006714</td>\n",
       "      <td>-0.019046</td>\n",
       "      <td>-0.041470</td>\n",
       "      <td>0.001374</td>\n",
       "      <td>0.178999</td>\n",
       "      <td>-0.012455</td>\n",
       "      <td>0.015875</td>\n",
       "      <td>0.108676</td>\n",
       "      <td>...</td>\n",
       "      <td>0.030698</td>\n",
       "      <td>0.034489</td>\n",
       "      <td>0.136009</td>\n",
       "      <td>0.007022</td>\n",
       "      <td>0.102419</td>\n",
       "      <td>-0.999629</td>\n",
       "      <td>1.000000</td>\n",
       "      <td>-0.093742</td>\n",
       "      <td>-0.082966</td>\n",
       "      <td>0.060337</td>\n",
       "    </tr>\n",
       "    <tr>\n",
       "      <th>psw_5min</th>\n",
       "      <td>-0.008444</td>\n",
       "      <td>0.030849</td>\n",
       "      <td>0.005607</td>\n",
       "      <td>-0.064218</td>\n",
       "      <td>-0.034040</td>\n",
       "      <td>-0.094770</td>\n",
       "      <td>-0.139832</td>\n",
       "      <td>-0.185773</td>\n",
       "      <td>0.094902</td>\n",
       "      <td>-0.307164</td>\n",
       "      <td>...</td>\n",
       "      <td>0.169941</td>\n",
       "      <td>-0.136025</td>\n",
       "      <td>0.177299</td>\n",
       "      <td>0.410952</td>\n",
       "      <td>-0.021852</td>\n",
       "      <td>0.088055</td>\n",
       "      <td>-0.093742</td>\n",
       "      <td>1.000000</td>\n",
       "      <td>0.425844</td>\n",
       "      <td>-0.101076</td>\n",
       "    </tr>\n",
       "    <tr>\n",
       "      <th>borovsky_5min</th>\n",
       "      <td>0.026161</td>\n",
       "      <td>0.011966</td>\n",
       "      <td>0.025117</td>\n",
       "      <td>-0.013703</td>\n",
       "      <td>-0.019942</td>\n",
       "      <td>-0.033696</td>\n",
       "      <td>-0.142067</td>\n",
       "      <td>-0.168537</td>\n",
       "      <td>-0.054905</td>\n",
       "      <td>-0.117401</td>\n",
       "      <td>...</td>\n",
       "      <td>0.294366</td>\n",
       "      <td>-0.299943</td>\n",
       "      <td>0.195702</td>\n",
       "      <td>0.047589</td>\n",
       "      <td>0.254863</td>\n",
       "      <td>0.077025</td>\n",
       "      <td>-0.082966</td>\n",
       "      <td>0.425844</td>\n",
       "      <td>1.000000</td>\n",
       "      <td>0.567923</td>\n",
       "    </tr>\n",
       "    <tr>\n",
       "      <th>newell_5min</th>\n",
       "      <td>0.042876</td>\n",
       "      <td>0.010927</td>\n",
       "      <td>0.040879</td>\n",
       "      <td>0.012754</td>\n",
       "      <td>0.009034</td>\n",
       "      <td>0.020575</td>\n",
       "      <td>-0.015665</td>\n",
       "      <td>-0.005993</td>\n",
       "      <td>-0.074178</td>\n",
       "      <td>0.096121</td>\n",
       "      <td>...</td>\n",
       "      <td>0.375112</td>\n",
       "      <td>-0.316088</td>\n",
       "      <td>0.365665</td>\n",
       "      <td>-0.317124</td>\n",
       "      <td>0.505090</td>\n",
       "      <td>-0.060439</td>\n",
       "      <td>0.060337</td>\n",
       "      <td>-0.101076</td>\n",
       "      <td>0.567923</td>\n",
       "      <td>1.000000</td>\n",
       "    </tr>\n",
       "  </tbody>\n",
       "</table>\n",
       "<p>153 rows × 153 columns</p>\n",
       "</div>"
      ],
      "text/plain": [
       "                           SC_AACGM_LAT  SC_AACGM_LTIME  \\\n",
       "SC_AACGM_LAT                   1.000000       -0.077137   \n",
       "SC_AACGM_LTIME                -0.077137        1.000000   \n",
       "ELE_TOTAL_ENERGY_FLUX          0.011166       -0.025051   \n",
       "ELE_TOTAL_ENERGY_FLUX_STD     -0.217543       -0.008799   \n",
       "ELE_AVG_ENERGY                -0.036369       -0.127105   \n",
       "...                                 ...             ...   \n",
       "vsw_5min                      -0.002800       -0.029887   \n",
       "vx_5min                        0.000848        0.028628   \n",
       "psw_5min                      -0.008444        0.030849   \n",
       "borovsky_5min                  0.026161        0.011966   \n",
       "newell_5min                    0.042876        0.010927   \n",
       "\n",
       "                           ELE_TOTAL_ENERGY_FLUX  ELE_TOTAL_ENERGY_FLUX_STD  \\\n",
       "SC_AACGM_LAT                            0.011166                  -0.217543   \n",
       "SC_AACGM_LTIME                         -0.025051                  -0.008799   \n",
       "ELE_TOTAL_ENERGY_FLUX                   1.000000                  -0.045956   \n",
       "ELE_TOTAL_ENERGY_FLUX_STD              -0.045956                   1.000000   \n",
       "ELE_AVG_ENERGY                          0.125707                   0.249302   \n",
       "...                                          ...                        ...   \n",
       "vsw_5min                                0.006667                   0.018336   \n",
       "vx_5min                                -0.006714                  -0.019046   \n",
       "psw_5min                                0.005607                  -0.064218   \n",
       "borovsky_5min                           0.025117                  -0.013703   \n",
       "newell_5min                             0.040879                   0.012754   \n",
       "\n",
       "                           ELE_AVG_ENERGY  ELE_AVG_ENERGY_STD     ID_SC  \\\n",
       "SC_AACGM_LAT                    -0.036369           -0.203636  0.029454   \n",
       "SC_AACGM_LTIME                  -0.127105           -0.006429  0.048726   \n",
       "ELE_TOTAL_ENERGY_FLUX            0.125707           -0.044610 -0.006837   \n",
       "ELE_TOTAL_ENERGY_FLUX_STD        0.249302            0.980391 -0.114982   \n",
       "ELE_AVG_ENERGY                   1.000000            0.233580 -0.108567   \n",
       "...                                   ...                 ...       ...   \n",
       "vsw_5min                         0.040892           -0.001718 -0.174585   \n",
       "vx_5min                         -0.041470            0.001374  0.178999   \n",
       "psw_5min                        -0.034040           -0.094770 -0.139832   \n",
       "borovsky_5min                   -0.019942           -0.033696 -0.142067   \n",
       "newell_5min                      0.009034            0.020575 -0.015665   \n",
       "\n",
       "                             sin_ut    cos_ut   sin_doy  ...   AE_5min  \\\n",
       "SC_AACGM_LAT              -0.053126 -0.031444  0.123176  ... -0.005325   \n",
       "SC_AACGM_LTIME            -0.110258  0.026450 -0.056365  ...  0.037789   \n",
       "ELE_TOTAL_ENERGY_FLUX      0.031414 -0.003450  0.025544  ...  0.043323   \n",
       "ELE_TOTAL_ENERGY_FLUX_STD  0.003274  0.020736  0.089033  ...  0.006769   \n",
       "ELE_AVG_ENERGY             0.007714  0.023762  0.074690  ...  0.036063   \n",
       "...                             ...       ...       ...  ...       ...   \n",
       "vsw_5min                   0.021817 -0.019749 -0.112679  ... -0.033241   \n",
       "vx_5min                   -0.012455  0.015875  0.108676  ...  0.030698   \n",
       "psw_5min                  -0.185773  0.094902 -0.307164  ...  0.169941   \n",
       "borovsky_5min             -0.168537 -0.054905 -0.117401  ...  0.294366   \n",
       "newell_5min               -0.005993 -0.074178  0.096121  ...  0.375112   \n",
       "\n",
       "                            AL_5min   AU_5min  SymH_5min   PC_5min  vsw_5min  \\\n",
       "SC_AACGM_LAT              -0.007701 -0.026401   0.022509  0.021169 -0.002800   \n",
       "SC_AACGM_LTIME            -0.032912  0.034571   0.034059  0.022497 -0.029887   \n",
       "ELE_TOTAL_ENERGY_FLUX     -0.041015  0.034244  -0.035007  0.048553  0.006667   \n",
       "ELE_TOTAL_ENERGY_FLUX_STD  0.009655  0.033339  -0.041813  0.005550  0.018336   \n",
       "ELE_AVG_ENERGY            -0.025877  0.042878  -0.066974  0.053353  0.040892   \n",
       "...                             ...       ...        ...       ...       ...   \n",
       "vsw_5min                  -0.031657 -0.137261  -0.011167 -0.105444  1.000000   \n",
       "vx_5min                    0.034489  0.136009   0.007022  0.102419 -0.999629   \n",
       "psw_5min                  -0.136025  0.177299   0.410952 -0.021852  0.088055   \n",
       "borovsky_5min             -0.299943  0.195702   0.047589  0.254863  0.077025   \n",
       "newell_5min               -0.316088  0.365665  -0.317124  0.505090 -0.060439   \n",
       "\n",
       "                            vx_5min  psw_5min  borovsky_5min  newell_5min  \n",
       "SC_AACGM_LAT               0.000848 -0.008444       0.026161     0.042876  \n",
       "SC_AACGM_LTIME             0.028628  0.030849       0.011966     0.010927  \n",
       "ELE_TOTAL_ENERGY_FLUX     -0.006714  0.005607       0.025117     0.040879  \n",
       "ELE_TOTAL_ENERGY_FLUX_STD -0.019046 -0.064218      -0.013703     0.012754  \n",
       "ELE_AVG_ENERGY            -0.041470 -0.034040      -0.019942     0.009034  \n",
       "...                             ...       ...            ...          ...  \n",
       "vsw_5min                  -0.999629  0.088055       0.077025    -0.060439  \n",
       "vx_5min                    1.000000 -0.093742      -0.082966     0.060337  \n",
       "psw_5min                  -0.093742  1.000000       0.425844    -0.101076  \n",
       "borovsky_5min             -0.082966  0.425844       1.000000     0.567923  \n",
       "newell_5min                0.060337 -0.101076       0.567923     1.000000  \n",
       "\n",
       "[153 rows x 153 columns]"
      ]
     },
     "execution_count": 6,
     "metadata": {},
     "output_type": "execute_result"
    }
   ],
   "source": [
    "df.corr()"
   ]
  },
  {
   "cell_type": "code",
   "execution_count": 7,
   "id": "4e91f0d8",
   "metadata": {
    "execution": {
     "iopub.execute_input": "2023-01-03T15:15:42.432263Z",
     "iopub.status.busy": "2023-01-03T15:15:42.431574Z",
     "iopub.status.idle": "2023-01-03T15:15:42.439408Z",
     "shell.execute_reply": "2023-01-03T15:15:42.438417Z"
    },
    "papermill": {
     "duration": 0.017461,
     "end_time": "2023-01-03T15:15:42.441412",
     "exception": false,
     "start_time": "2023-01-03T15:15:42.423951",
     "status": "completed"
    },
    "tags": []
   },
   "outputs": [
    {
     "data": {
      "text/plain": [
       "0       2.057827e+08\n",
       "1       2.509837e+08\n",
       "2       4.469146e+08\n",
       "3       1.934849e+10\n",
       "4       3.913337e+11\n",
       "            ...     \n",
       "6823    2.240820e+08\n",
       "6824    2.240820e+08\n",
       "6825    4.652076e+09\n",
       "6826    3.049135e+10\n",
       "6827    8.756798e+09\n",
       "Name: ELE_TOTAL_ENERGY_FLUX, Length: 6828, dtype: float64"
      ]
     },
     "execution_count": 7,
     "metadata": {},
     "output_type": "execute_result"
    }
   ],
   "source": [
    "df['ELE_TOTAL_ENERGY_FLUX']"
   ]
  },
  {
   "cell_type": "code",
   "execution_count": 8,
   "id": "3635d55a",
   "metadata": {
    "execution": {
     "iopub.execute_input": "2023-01-03T15:15:42.455753Z",
     "iopub.status.busy": "2023-01-03T15:15:42.455452Z",
     "iopub.status.idle": "2023-01-03T15:15:42.468141Z",
     "shell.execute_reply": "2023-01-03T15:15:42.467312Z"
    },
    "papermill": {
     "duration": 0.021919,
     "end_time": "2023-01-03T15:15:42.470049",
     "exception": false,
     "start_time": "2023-01-03T15:15:42.448130",
     "status": "completed"
    },
    "tags": []
   },
   "outputs": [
    {
     "data": {
      "text/html": [
       "<div>\n",
       "<style scoped>\n",
       "    .dataframe tbody tr th:only-of-type {\n",
       "        vertical-align: middle;\n",
       "    }\n",
       "\n",
       "    .dataframe tbody tr th {\n",
       "        vertical-align: top;\n",
       "    }\n",
       "\n",
       "    .dataframe thead th {\n",
       "        text-align: right;\n",
       "    }\n",
       "</style>\n",
       "<table border=\"1\" class=\"dataframe\">\n",
       "  <thead>\n",
       "    <tr style=\"text-align: right;\">\n",
       "      <th></th>\n",
       "      <th>Datetimes</th>\n",
       "    </tr>\n",
       "  </thead>\n",
       "  <tbody>\n",
       "    <tr>\n",
       "      <th>0</th>\n",
       "      <td>1987-01-12 12:57:00</td>\n",
       "    </tr>\n",
       "    <tr>\n",
       "      <th>1</th>\n",
       "      <td>1987-01-12 12:58:00</td>\n",
       "    </tr>\n",
       "    <tr>\n",
       "      <th>2</th>\n",
       "      <td>1987-01-12 13:01:00</td>\n",
       "    </tr>\n",
       "    <tr>\n",
       "      <th>3</th>\n",
       "      <td>1987-01-12 13:02:00</td>\n",
       "    </tr>\n",
       "    <tr>\n",
       "      <th>4</th>\n",
       "      <td>1987-01-12 13:03:00</td>\n",
       "    </tr>\n",
       "    <tr>\n",
       "      <th>...</th>\n",
       "      <td>...</td>\n",
       "    </tr>\n",
       "    <tr>\n",
       "      <th>6823</th>\n",
       "      <td>2001-02-28 10:12:00</td>\n",
       "    </tr>\n",
       "    <tr>\n",
       "      <th>6824</th>\n",
       "      <td>2001-02-28 10:13:00</td>\n",
       "    </tr>\n",
       "    <tr>\n",
       "      <th>6825</th>\n",
       "      <td>2001-02-28 10:14:00</td>\n",
       "    </tr>\n",
       "    <tr>\n",
       "      <th>6826</th>\n",
       "      <td>2001-02-28 10:15:00</td>\n",
       "    </tr>\n",
       "    <tr>\n",
       "      <th>6827</th>\n",
       "      <td>2001-02-28 10:16:00</td>\n",
       "    </tr>\n",
       "  </tbody>\n",
       "</table>\n",
       "<p>6828 rows × 1 columns</p>\n",
       "</div>"
      ],
      "text/plain": [
       "                Datetimes\n",
       "0     1987-01-12 12:57:00\n",
       "1     1987-01-12 12:58:00\n",
       "2     1987-01-12 13:01:00\n",
       "3     1987-01-12 13:02:00\n",
       "4     1987-01-12 13:03:00\n",
       "...                   ...\n",
       "6823  2001-02-28 10:12:00\n",
       "6824  2001-02-28 10:13:00\n",
       "6825  2001-02-28 10:14:00\n",
       "6826  2001-02-28 10:15:00\n",
       "6827  2001-02-28 10:16:00\n",
       "\n",
       "[6828 rows x 1 columns]"
      ]
     },
     "execution_count": 8,
     "metadata": {},
     "output_type": "execute_result"
    }
   ],
   "source": [
    "df.select_dtypes('object')"
   ]
  },
  {
   "cell_type": "markdown",
   "id": "fa207960",
   "metadata": {
    "papermill": {
     "duration": 0.006557,
     "end_time": "2023-01-03T15:15:42.483301",
     "exception": false,
     "start_time": "2023-01-03T15:15:42.476744",
     "status": "completed"
    },
    "tags": []
   },
   "source": [
    "### Datetime conversion"
   ]
  },
  {
   "cell_type": "code",
   "execution_count": 9,
   "id": "ce2056e1",
   "metadata": {
    "execution": {
     "iopub.execute_input": "2023-01-03T15:15:42.498388Z",
     "iopub.status.busy": "2023-01-03T15:15:42.497508Z",
     "iopub.status.idle": "2023-01-03T15:15:42.510202Z",
     "shell.execute_reply": "2023-01-03T15:15:42.509181Z"
    },
    "papermill": {
     "duration": 0.022245,
     "end_time": "2023-01-03T15:15:42.512192",
     "exception": false,
     "start_time": "2023-01-03T15:15:42.489947",
     "status": "completed"
    },
    "tags": []
   },
   "outputs": [
    {
     "data": {
      "text/plain": [
       "0      1987-01-12 12:57:00\n",
       "1      1987-01-12 12:58:00\n",
       "2      1987-01-12 13:01:00\n",
       "3      1987-01-12 13:02:00\n",
       "4      1987-01-12 13:03:00\n",
       "               ...        \n",
       "6823   2001-02-28 10:12:00\n",
       "6824   2001-02-28 10:13:00\n",
       "6825   2001-02-28 10:14:00\n",
       "6826   2001-02-28 10:15:00\n",
       "6827   2001-02-28 10:16:00\n",
       "Name: Datetimes, Length: 6828, dtype: datetime64[ns]"
      ]
     },
     "execution_count": 9,
     "metadata": {},
     "output_type": "execute_result"
    }
   ],
   "source": [
    "df['Datetimes'] = pd.to_datetime(df['Datetimes'], format='%Y-%m-%d')\n",
    "df['Datetimes']"
   ]
  },
  {
   "cell_type": "code",
   "execution_count": 10,
   "id": "1877dd03",
   "metadata": {
    "execution": {
     "iopub.execute_input": "2023-01-03T15:15:42.527511Z",
     "iopub.status.busy": "2023-01-03T15:15:42.526728Z",
     "iopub.status.idle": "2023-01-03T15:15:42.771207Z",
     "shell.execute_reply": "2023-01-03T15:15:42.770323Z"
    },
    "papermill": {
     "duration": 0.254435,
     "end_time": "2023-01-03T15:15:42.773498",
     "exception": false,
     "start_time": "2023-01-03T15:15:42.519063",
     "status": "completed"
    },
    "tags": []
   },
   "outputs": [
    {
     "data": {
      "text/plain": [
       "<AxesSubplot:ylabel='Frequency'>"
      ]
     },
     "execution_count": 10,
     "metadata": {},
     "output_type": "execute_result"
    },
    {
     "data": {
      "image/png": "[encoded data removed]",
      "text/plain": [
       "<Figure size 432x288 with 1 Axes>"
      ]
     },
     "metadata": {
      "needs_background": "light"
     },
     "output_type": "display_data"
    }
   ],
   "source": [
    "df['ELE_TOTAL_ENERGY_FLUX'].plot(kind='hist')"
   ]
  },
  {
   "cell_type": "markdown",
   "id": "30f909d0",
   "metadata": {
    "papermill": {
     "duration": 0.007004,
     "end_time": "2023-01-03T15:15:42.788041",
     "exception": false,
     "start_time": "2023-01-03T15:15:42.781037",
     "status": "completed"
    },
    "tags": []
   },
   "source": [
    "- Number format is large so we have to convert it to logarithmic form"
   ]
  },
  {
   "cell_type": "markdown",
   "id": "6cb290ee",
   "metadata": {
    "papermill": {
     "duration": 0.006827,
     "end_time": "2023-01-03T15:15:42.801985",
     "exception": false,
     "start_time": "2023-01-03T15:15:42.795158",
     "status": "completed"
    },
    "tags": []
   },
   "source": [
    "### Taking a log of target variable"
   ]
  },
  {
   "cell_type": "code",
   "execution_count": 11,
   "id": "d0ee3902",
   "metadata": {
    "execution": {
     "iopub.execute_input": "2023-01-03T15:15:42.817916Z",
     "iopub.status.busy": "2023-01-03T15:15:42.817007Z",
     "iopub.status.idle": "2023-01-03T15:15:42.825522Z",
     "shell.execute_reply": "2023-01-03T15:15:42.824539Z"
    },
    "papermill": {
     "duration": 0.018386,
     "end_time": "2023-01-03T15:15:42.827492",
     "exception": false,
     "start_time": "2023-01-03T15:15:42.809106",
     "status": "completed"
    },
    "tags": []
   },
   "outputs": [
    {
     "data": {
      "text/plain": [
       "0        8.313409\n",
       "1        8.399646\n",
       "2        8.650225\n",
       "3       10.286647\n",
       "4       11.592547\n",
       "          ...    \n",
       "6823     8.350407\n",
       "6824     8.350407\n",
       "6825     9.667647\n",
       "6826    10.484177\n",
       "6827     9.942345\n",
       "Name: ELE_TOTAL_ENERGY_FLUX, Length: 6828, dtype: float64"
      ]
     },
     "execution_count": 11,
     "metadata": {},
     "output_type": "execute_result"
    }
   ],
   "source": [
    "df['ELE_TOTAL_ENERGY_FLUX'] = np.log10(df['ELE_TOTAL_ENERGY_FLUX'])\n",
    "df['ELE_TOTAL_ENERGY_FLUX']"
   ]
  },
  {
   "cell_type": "code",
   "execution_count": 12,
   "id": "22dfd95e",
   "metadata": {
    "execution": {
     "iopub.execute_input": "2023-01-03T15:15:42.843664Z",
     "iopub.status.busy": "2023-01-03T15:15:42.842833Z",
     "iopub.status.idle": "2023-01-03T15:15:42.851702Z",
     "shell.execute_reply": "2023-01-03T15:15:42.850876Z"
    },
    "papermill": {
     "duration": 0.019001,
     "end_time": "2023-01-03T15:15:42.853593",
     "exception": false,
     "start_time": "2023-01-03T15:15:42.834592",
     "status": "completed"
    },
    "tags": []
   },
   "outputs": [],
   "source": [
    "# remove datetimes columns as time is not related to our context\n",
    "X = df.drop(['Datetimes','ELE_TOTAL_ENERGY_FLUX'], axis=1)\n",
    "y = df['ELE_TOTAL_ENERGY_FLUX']"
   ]
  },
  {
   "cell_type": "code",
   "execution_count": 13,
   "id": "9674ebf3",
   "metadata": {
    "execution": {
     "iopub.execute_input": "2023-01-03T15:15:42.869417Z",
     "iopub.status.busy": "2023-01-03T15:15:42.868638Z",
     "iopub.status.idle": "2023-01-03T15:15:42.878223Z",
     "shell.execute_reply": "2023-01-03T15:15:42.877330Z"
    },
    "papermill": {
     "duration": 0.01953,
     "end_time": "2023-01-03T15:15:42.880232",
     "exception": false,
     "start_time": "2023-01-03T15:15:42.860702",
     "status": "completed"
    },
    "tags": []
   },
   "outputs": [
    {
     "data": {
      "text/plain": [
       "0        8.313409\n",
       "1        8.399646\n",
       "2        8.650225\n",
       "3       10.286647\n",
       "4       11.592547\n",
       "          ...    \n",
       "6822     8.065772\n",
       "6823     8.350407\n",
       "6824     8.350407\n",
       "6825     9.667647\n",
       "6826    10.484177\n",
       "Length: 6827, dtype: float64"
      ]
     },
     "execution_count": 13,
     "metadata": {},
     "output_type": "execute_result"
    }
   ],
   "source": [
    "new_lst = list(y)\n",
    "lst = new_lst[:6827]\n",
    "y_n = pd.Series(lst)\n",
    "y_n"
   ]
  },
  {
   "cell_type": "code",
   "execution_count": 14,
   "id": "70975da7",
   "metadata": {
    "execution": {
     "iopub.execute_input": "2023-01-03T15:15:42.896419Z",
     "iopub.status.busy": "2023-01-03T15:15:42.895564Z",
     "iopub.status.idle": "2023-01-03T15:15:42.927070Z",
     "shell.execute_reply": "2023-01-03T15:15:42.926115Z"
    },
    "papermill": {
     "duration": 0.041895,
     "end_time": "2023-01-03T15:15:42.929389",
     "exception": false,
     "start_time": "2023-01-03T15:15:42.887494",
     "status": "completed"
    },
    "tags": []
   },
   "outputs": [],
   "source": [
    "# standardize the dataset\n",
    "sc = StandardScaler()\n",
    "sc.fit(X)\n",
    "X_n = sc.transform(X)\n",
    "features = sc.get_feature_names_out()\n",
    "X_n = pd.DataFrame(X_n, columns=features)"
   ]
  },
  {
   "cell_type": "code",
   "execution_count": 15,
   "id": "a15e4616",
   "metadata": {
    "execution": {
     "iopub.execute_input": "2023-01-03T15:15:42.946089Z",
     "iopub.status.busy": "2023-01-03T15:15:42.945778Z",
     "iopub.status.idle": "2023-01-03T15:15:42.965781Z",
     "shell.execute_reply": "2023-01-03T15:15:42.964728Z"
    },
    "papermill": {
     "duration": 0.031129,
     "end_time": "2023-01-03T15:15:42.968217",
     "exception": false,
     "start_time": "2023-01-03T15:15:42.937088",
     "status": "completed"
    },
    "tags": []
   },
   "outputs": [
    {
     "data": {
      "text/html": [
       "<div>\n",
       "<style scoped>\n",
       "    .dataframe tbody tr th:only-of-type {\n",
       "        vertical-align: middle;\n",
       "    }\n",
       "\n",
       "    .dataframe tbody tr th {\n",
       "        vertical-align: top;\n",
       "    }\n",
       "\n",
       "    .dataframe thead th {\n",
       "        text-align: right;\n",
       "    }\n",
       "</style>\n",
       "<table border=\"1\" class=\"dataframe\">\n",
       "  <thead>\n",
       "    <tr style=\"text-align: right;\">\n",
       "      <th></th>\n",
       "      <th>SC_AACGM_LAT</th>\n",
       "      <th>SC_AACGM_LTIME</th>\n",
       "      <th>ELE_TOTAL_ENERGY_FLUX_STD</th>\n",
       "      <th>ELE_AVG_ENERGY</th>\n",
       "      <th>ELE_AVG_ENERGY_STD</th>\n",
       "      <th>ID_SC</th>\n",
       "      <th>sin_ut</th>\n",
       "      <th>cos_ut</th>\n",
       "      <th>sin_doy</th>\n",
       "      <th>cos_doy</th>\n",
       "      <th>...</th>\n",
       "      <th>AE_5min</th>\n",
       "      <th>AL_5min</th>\n",
       "      <th>AU_5min</th>\n",
       "      <th>SymH_5min</th>\n",
       "      <th>PC_5min</th>\n",
       "      <th>vsw_5min</th>\n",
       "      <th>vx_5min</th>\n",
       "      <th>psw_5min</th>\n",
       "      <th>borovsky_5min</th>\n",
       "      <th>newell_5min</th>\n",
       "    </tr>\n",
       "  </thead>\n",
       "  <tbody>\n",
       "    <tr>\n",
       "      <th>6827</th>\n",
       "      <td>0.714619</td>\n",
       "      <td>-1.313764</td>\n",
       "      <td>-0.445427</td>\n",
       "      <td>-0.248506</td>\n",
       "      <td>-0.408867</td>\n",
       "      <td>0.245297</td>\n",
       "      <td>0.82858</td>\n",
       "      <td>-1.38244</td>\n",
       "      <td>1.275739</td>\n",
       "      <td>0.121915</td>\n",
       "      <td>...</td>\n",
       "      <td>NaN</td>\n",
       "      <td>NaN</td>\n",
       "      <td>NaN</td>\n",
       "      <td>NaN</td>\n",
       "      <td>NaN</td>\n",
       "      <td>NaN</td>\n",
       "      <td>NaN</td>\n",
       "      <td>NaN</td>\n",
       "      <td>NaN</td>\n",
       "      <td>NaN</td>\n",
       "    </tr>\n",
       "  </tbody>\n",
       "</table>\n",
       "<p>1 rows × 152 columns</p>\n",
       "</div>"
      ],
      "text/plain": [
       "      SC_AACGM_LAT  SC_AACGM_LTIME  ELE_TOTAL_ENERGY_FLUX_STD  ELE_AVG_ENERGY  \\\n",
       "6827      0.714619       -1.313764                  -0.445427       -0.248506   \n",
       "\n",
       "      ELE_AVG_ENERGY_STD     ID_SC   sin_ut   cos_ut   sin_doy   cos_doy  ...  \\\n",
       "6827           -0.408867  0.245297  0.82858 -1.38244  1.275739  0.121915  ...   \n",
       "\n",
       "      AE_5min  AL_5min  AU_5min  SymH_5min  PC_5min  vsw_5min  vx_5min  \\\n",
       "6827      NaN      NaN      NaN        NaN      NaN       NaN      NaN   \n",
       "\n",
       "      psw_5min  borovsky_5min  newell_5min  \n",
       "6827       NaN            NaN          NaN  \n",
       "\n",
       "[1 rows x 152 columns]"
      ]
     },
     "execution_count": 15,
     "metadata": {},
     "output_type": "execute_result"
    }
   ],
   "source": [
    "# find the rows with missing values\n",
    "X_n[X_n.isnull().any(axis=1)]"
   ]
  },
  {
   "cell_type": "code",
   "execution_count": 16,
   "id": "bc1129b4",
   "metadata": {
    "execution": {
     "iopub.execute_input": "2023-01-03T15:15:42.986195Z",
     "iopub.status.busy": "2023-01-03T15:15:42.985349Z",
     "iopub.status.idle": "2023-01-03T15:15:42.999855Z",
     "shell.execute_reply": "2023-01-03T15:15:42.998836Z"
    },
    "papermill": {
     "duration": 0.025219,
     "end_time": "2023-01-03T15:15:43.001984",
     "exception": false,
     "start_time": "2023-01-03T15:15:42.976765",
     "status": "completed"
    },
    "tags": []
   },
   "outputs": [
    {
     "data": {
      "text/plain": [
       "(6827, 152)"
      ]
     },
     "execution_count": 16,
     "metadata": {},
     "output_type": "execute_result"
    }
   ],
   "source": [
    "X_b = X_n.dropna(axis=0)\n",
    "X_b.shape"
   ]
  },
  {
   "cell_type": "markdown",
   "id": "9cad7f61",
   "metadata": {
    "papermill": {
     "duration": 0.007787,
     "end_time": "2023-01-03T15:15:43.017783",
     "exception": false,
     "start_time": "2023-01-03T15:15:43.009996",
     "status": "completed"
    },
    "tags": []
   },
   "source": [
    "## Feature selection using RFE"
   ]
  },
  {
   "cell_type": "code",
   "execution_count": 17,
   "id": "d5a3c143",
   "metadata": {
    "execution": {
     "iopub.execute_input": "2023-01-03T15:15:43.035402Z",
     "iopub.status.busy": "2023-01-03T15:15:43.033894Z",
     "iopub.status.idle": "2023-01-03T15:16:13.548160Z",
     "shell.execute_reply": "2023-01-03T15:16:13.547148Z"
    },
    "papermill": {
     "duration": 30.52507,
     "end_time": "2023-01-03T15:16:13.550569",
     "exception": false,
     "start_time": "2023-01-03T15:15:43.025499",
     "status": "completed"
    },
    "tags": []
   },
   "outputs": [],
   "source": [
    "# features selection using RFE\n",
    "estimtr = DecisionTreeRegressor()\n",
    "selector = RFE(estimator=estimtr, n_features_to_select=30, step=2)\n",
    "selector = selector.fit(X_b, y_n)\n",
    "features = list(selector.get_feature_names_out())"
   ]
  },
  {
   "cell_type": "code",
   "execution_count": 18,
   "id": "a910c11b",
   "metadata": {
    "execution": {
     "iopub.execute_input": "2023-01-03T15:16:13.569351Z",
     "iopub.status.busy": "2023-01-03T15:16:13.567600Z",
     "iopub.status.idle": "2023-01-03T15:16:13.574911Z",
     "shell.execute_reply": "2023-01-03T15:16:13.573882Z"
    },
    "papermill": {
     "duration": 0.018555,
     "end_time": "2023-01-03T15:16:13.577327",
     "exception": false,
     "start_time": "2023-01-03T15:16:13.558772",
     "status": "completed"
    },
    "tags": []
   },
   "outputs": [
    {
     "data": {
      "text/plain": [
       "['SC_AACGM_LAT',\n",
       " 'SC_AACGM_LTIME',\n",
       " 'ELE_TOTAL_ENERGY_FLUX_STD',\n",
       " 'ELE_AVG_ENERGY',\n",
       " 'ELE_AVG_ENERGY_STD',\n",
       " 'ID_SC',\n",
       " 'sin_ut',\n",
       " 'cos_ut',\n",
       " 'sin_doy',\n",
       " 'cos_doy',\n",
       " 'sin_SC_AACGM_LTIME',\n",
       " 'cos_SC_AACGM_LTIME',\n",
       " 'Bz',\n",
       " 'AL',\n",
       " 'F107_6hr',\n",
       " 'Bx_6hr',\n",
       " 'PC_6hr',\n",
       " 'vsw_6hr',\n",
       " 'borovsky_6hr',\n",
       " 'Bx_5hr',\n",
       " 'AL_5hr',\n",
       " 'PC_3hr',\n",
       " 'psw_3hr',\n",
       " 'borovsky_3hr',\n",
       " 'vsw_1hr',\n",
       " 'newell_1hr',\n",
       " 'Bx_45min',\n",
       " 'newell_45min',\n",
       " 'F107_30min',\n",
       " 'AE_5min']"
      ]
     },
     "execution_count": 18,
     "metadata": {},
     "output_type": "execute_result"
    }
   ],
   "source": [
    "features"
   ]
  },
  {
   "cell_type": "code",
   "execution_count": 19,
   "id": "a9c736b8",
   "metadata": {
    "execution": {
     "iopub.execute_input": "2023-01-03T15:16:13.593828Z",
     "iopub.status.busy": "2023-01-03T15:16:13.593555Z",
     "iopub.status.idle": "2023-01-03T15:16:13.603766Z",
     "shell.execute_reply": "2023-01-03T15:16:13.602932Z"
    },
    "papermill": {
     "duration": 0.020705,
     "end_time": "2023-01-03T15:16:13.605668",
     "exception": false,
     "start_time": "2023-01-03T15:16:13.584963",
     "status": "completed"
    },
    "tags": []
   },
   "outputs": [
    {
     "data": {
      "text/plain": [
       "{'estimator__ccp_alpha': 0.0,\n",
       " 'estimator__criterion': 'squared_error',\n",
       " 'estimator__max_depth': None,\n",
       " 'estimator__max_features': None,\n",
       " 'estimator__max_leaf_nodes': None,\n",
       " 'estimator__min_impurity_decrease': 0.0,\n",
       " 'estimator__min_samples_leaf': 1,\n",
       " 'estimator__min_samples_split': 2,\n",
       " 'estimator__min_weight_fraction_leaf': 0.0,\n",
       " 'estimator__random_state': None,\n",
       " 'estimator__splitter': 'best',\n",
       " 'estimator': DecisionTreeRegressor(),\n",
       " 'importance_getter': 'auto',\n",
       " 'n_features_to_select': 30,\n",
       " 'step': 2,\n",
       " 'verbose': 0}"
      ]
     },
     "execution_count": 19,
     "metadata": {},
     "output_type": "execute_result"
    }
   ],
   "source": [
    "selector.get_params()"
   ]
  },
  {
   "cell_type": "markdown",
   "id": "fd4650d9",
   "metadata": {
    "papermill": {
     "duration": 0.007458,
     "end_time": "2023-01-03T15:16:13.620782",
     "exception": false,
     "start_time": "2023-01-03T15:16:13.613324",
     "status": "completed"
    },
    "tags": []
   },
   "source": [
    "- 30 Features have been selected from 152 features"
   ]
  },
  {
   "cell_type": "markdown",
   "id": "58b74d71",
   "metadata": {
    "papermill": {
     "duration": 0.007455,
     "end_time": "2023-01-03T15:16:13.635983",
     "exception": false,
     "start_time": "2023-01-03T15:16:13.628528",
     "status": "completed"
    },
    "tags": []
   },
   "source": [
    "## LGBM baseline model"
   ]
  },
  {
   "cell_type": "code",
   "execution_count": 20,
   "id": "9a26cf74",
   "metadata": {
    "execution": {
     "iopub.execute_input": "2023-01-03T15:16:13.652486Z",
     "iopub.status.busy": "2023-01-03T15:16:13.652202Z",
     "iopub.status.idle": "2023-01-03T15:16:14.112902Z",
     "shell.execute_reply": "2023-01-03T15:16:14.112140Z"
    },
    "papermill": {
     "duration": 0.471378,
     "end_time": "2023-01-03T15:16:14.115099",
     "exception": false,
     "start_time": "2023-01-03T15:16:13.643721",
     "status": "completed"
    },
    "tags": []
   },
   "outputs": [
    {
     "data": {
      "text/plain": [
       "LGBMRegressor(learning_rate=0.01, random_state=42)"
      ]
     },
     "execution_count": 20,
     "metadata": {},
     "output_type": "execute_result"
    }
   ],
   "source": [
    "# building lgbm model for regression\n",
    "X_f = X_b[features]\n",
    "\n",
    "# train and test split\n",
    "X_trn, X_tst, y_trn, y_tst = train_test_split(X_f, y_n, test_size=0.20, random_state=42)\n",
    "\n",
    "# modeling stage\n",
    "regressor = LGBMRegressor(learning_rate=0.01,random_state=42)\n",
    "regressor.fit(X_trn, y_trn)"
   ]
  },
  {
   "cell_type": "code",
   "execution_count": 21,
   "id": "e2ec1985",
   "metadata": {
    "execution": {
     "iopub.execute_input": "2023-01-03T15:16:14.133457Z",
     "iopub.status.busy": "2023-01-03T15:16:14.133156Z",
     "iopub.status.idle": "2023-01-03T15:16:14.148410Z",
     "shell.execute_reply": "2023-01-03T15:16:14.147342Z"
    },
    "papermill": {
     "duration": 0.026354,
     "end_time": "2023-01-03T15:16:14.150811",
     "exception": false,
     "start_time": "2023-01-03T15:16:14.124457",
     "status": "completed"
    },
    "tags": []
   },
   "outputs": [
    {
     "name": "stdout",
     "output_type": "stream",
     "text": [
      "RMSE: 0.5397545164946542\n",
      "R2_score: 0.7997804962972221\n"
     ]
    }
   ],
   "source": [
    "# predict on test data\n",
    "preds = regressor.predict(X_tst)\n",
    "\n",
    "# evaluation metrics\n",
    "rmse = np.sqrt(mean_squared_error(y_tst, preds))\n",
    "r2 = r2_score(y_tst,preds)\n",
    "print(\"RMSE:\", rmse)\n",
    "print(\"R2_score:\", r2)"
   ]
  },
  {
   "cell_type": "markdown",
   "id": "b38ad861",
   "metadata": {
    "papermill": {
     "duration": 0.008524,
     "end_time": "2023-01-03T15:16:14.168961",
     "exception": false,
     "start_time": "2023-01-03T15:16:14.160437",
     "status": "completed"
    },
    "tags": []
   },
   "source": [
    "# Neural network model"
   ]
  },
  {
   "cell_type": "code",
   "execution_count": 22,
   "id": "bdcac468",
   "metadata": {
    "execution": {
     "iopub.execute_input": "2023-01-03T15:16:14.185927Z",
     "iopub.status.busy": "2023-01-03T15:16:14.185663Z",
     "iopub.status.idle": "2023-01-03T15:16:14.189658Z",
     "shell.execute_reply": "2023-01-03T15:16:14.188646Z"
    },
    "papermill": {
     "duration": 0.015173,
     "end_time": "2023-01-03T15:16:14.191938",
     "exception": false,
     "start_time": "2023-01-03T15:16:14.176765",
     "status": "completed"
    },
    "tags": []
   },
   "outputs": [],
   "source": [
    "# NN model for regression task\n",
    "# model = Sequential()"
   ]
  }
 ],
 "metadata": {
  "kernelspec": {
   "display_name": "Python 3",
   "language": "python",
   "name": "python3"
  },
  "language_info": {
   "codemirror_mode": {
    "name": "ipython",
    "version": 3
   },
   "file_extension": ".py",
   "mimetype": "text/x-python",
   "name": "python",
   "nbconvert_exporter": "python",
   "pygments_lexer": "ipython3",
   "version": "3.7.12"
  },
  "papermill": {
   "default_parameters": {},
   "duration": 51.285998,
   "end_time": "2023-01-03T15:16:16.990935",
   "environment_variables": {},
   "exception": null,
   "input_path": "__notebook__.ipynb",
   "output_path": "__notebook__.ipynb",
   "parameters": {},
   "start_time": "2023-01-03T15:15:25.704937",
   "version": "2.3.4"
  }
 },
 "nbformat": 4,
 "nbformat_minor": 5
}
